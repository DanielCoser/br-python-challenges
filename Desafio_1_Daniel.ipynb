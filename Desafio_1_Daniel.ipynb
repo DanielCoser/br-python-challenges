{
  "nbformat": 4,
  "nbformat_minor": 0,
  "metadata": {
    "anaconda-cloud": {},
    "kernelspec": {
      "display_name": "Python 3",
      "language": "python",
      "name": "python3"
    },
    "language_info": {
      "codemirror_mode": {
        "name": "ipython",
        "version": 3
      },
      "file_extension": ".py",
      "mimetype": "text/x-python",
      "name": "python",
      "nbconvert_exporter": "python",
      "pygments_lexer": "ipython3",
      "version": "3.7.7"
    },
    "colab": {
      "name": "Cópia de Desafio 1.ipynb",
      "provenance": [],
      "include_colab_link": true
    }
  },
  "cells": [
    {
      "cell_type": "markdown",
      "metadata": {
        "id": "view-in-github",
        "colab_type": "text"
      },
      "source": [
        "<a href=\"https://colab.research.google.com/github/DanielCoser/br-python-challenges/blob/master/Desafio_1_Daniel.ipynb\" target=\"_parent\"><img src=\"https://colab.research.google.com/assets/colab-badge.svg\" alt=\"Open In Colab\"/></a>"
      ]
    },
    {
      "cell_type": "markdown",
      "metadata": {
        "id": "SbLLE9q1eldC"
      },
      "source": [
        "### Desafio 1\n",
        "\n",
        "Escreva um programa em Python para contabilizar a quantidade de ocorrências de cada palavra."
      ]
    },
    {
      "cell_type": "code",
      "metadata": {
        "id": "WhtbdwFseldD"
      },
      "source": [
        "palavras = [\n",
        "   'red', 'green', 'black', 'pink', 'black', 'white', 'black', 'eyes',\n",
        "   'white', 'black', 'orange', 'pink', 'pink', 'red', 'red', 'white', 'orange',\n",
        "   'white', \"black\", 'pink', 'green', 'green', 'pink', 'green', 'pink',\n",
        "   'white', 'orange', \"orange\", 'red'\n",
        "]\n",
        "\n",
        "\n",
        "# Seu código"
      ],
      "execution_count": 1,
      "outputs": []
    },
    {
      "cell_type": "code",
      "metadata": {
        "id": "M58o1U9KfAxa",
        "colab": {
          "base_uri": "https://localhost:8080/"
        },
        "outputId": "3cf49fb7-7291-4d97-d57a-40ded788455d"
      },
      "source": [
        "frequencia = []\n",
        "for w in palavras:\n",
        "    frequencia.append(palavras.count(w))\n",
        "print(\"Frequencia\\n\" + str(frequencia) + \"\\n\")\n",
        "print(\"Pairs\\n\" + str(list(zip(palavras, frequencia))))"
      ],
      "execution_count": 3,
      "outputs": [
        {
          "output_type": "stream",
          "text": [
            "Frequencia\n",
            "[4, 4, 5, 6, 5, 5, 5, 1, 5, 5, 4, 6, 6, 4, 4, 5, 4, 5, 5, 6, 4, 4, 6, 4, 6, 5, 4, 4, 4]\n",
            "\n",
            "Pairs\n",
            "[('red', 4), ('green', 4), ('black', 5), ('pink', 6), ('black', 5), ('white', 5), ('black', 5), ('eyes', 1), ('white', 5), ('black', 5), ('orange', 4), ('pink', 6), ('pink', 6), ('red', 4), ('red', 4), ('white', 5), ('orange', 4), ('white', 5), ('black', 5), ('pink', 6), ('green', 4), ('green', 4), ('pink', 6), ('green', 4), ('pink', 6), ('white', 5), ('orange', 4), ('orange', 4), ('red', 4)]\n"
          ],
          "name": "stdout"
        }
      ]
    },
    {
      "cell_type": "code",
      "metadata": {
        "colab": {
          "base_uri": "https://localhost:8080/"
        },
        "id": "7hQzJ-KlUdTy",
        "outputId": "fd78a177-0ed4-44d8-c0ee-c8e609923718"
      },
      "source": [
        "from collections import Counter\n",
        "palavras = [\n",
        "   'red', 'green', 'black', 'pink', 'black', 'white', 'black', 'eyes',\n",
        "   'white', 'black', 'orange', 'pink', 'pink', 'red', 'red', 'white', 'orange',\n",
        "   'white', \"black\", 'pink', 'green', 'green', 'pink', 'green', 'pink',\n",
        "   'white', 'orange', \"orange\", 'red'\n",
        "]\n",
        "print(Counter(palavras))"
      ],
      "execution_count": 8,
      "outputs": [
        {
          "output_type": "stream",
          "text": [
            "Counter({'pink': 6, 'black': 5, 'white': 5, 'red': 4, 'green': 4, 'orange': 4, 'eyes': 1})\n"
          ],
          "name": "stdout"
        }
      ]
    }
  ]
}