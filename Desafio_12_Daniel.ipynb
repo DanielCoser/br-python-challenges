{
  "nbformat": 4,
  "nbformat_minor": 0,
  "metadata": {
    "anaconda-cloud": {},
    "kernelspec": {
      "display_name": "Python 3",
      "language": "python",
      "name": "python3"
    },
    "language_info": {
      "codemirror_mode": {
        "name": "ipython",
        "version": 3
      },
      "file_extension": ".py",
      "mimetype": "text/x-python",
      "name": "python",
      "nbconvert_exporter": "python",
      "pygments_lexer": "ipython3",
      "version": "3.6.5"
    },
    "colab": {
      "name": "Desafio 12.ipynb",
      "provenance": [],
      "collapsed_sections": [],
      "include_colab_link": true
    }
  },
  "cells": [
    {
      "cell_type": "markdown",
      "metadata": {
        "id": "view-in-github",
        "colab_type": "text"
      },
      "source": [
        "<a href=\"https://colab.research.google.com/github/DanielCoser/br-python-challenges/blob/master/Desafio_12_Daniel.ipynb\" target=\"_parent\"><img src=\"https://colab.research.google.com/assets/colab-badge.svg\" alt=\"Open In Colab\"/></a>"
      ]
    },
    {
      "cell_type": "markdown",
      "metadata": {
        "id": "AYHY2YXQf6J2"
      },
      "source": [
        "### Desafio 12\n",
        "\n",
        "Escreva uma função em Python para verificar a validade de uma senha.\n",
        "\n",
        "Validação:\n",
        "\n",
        "* Pelo menos 1 letra entre [a-z] e 1 letra entre [A-Z].\n",
        "* Pelo menos 1 número entre [0-9].\n",
        "* Pelo menos 1 caractere de [$ # @].\n",
        "* Comprimento mínimo de 6 caracteres.\n",
        "* Comprimento máximo de 16 caracteres.\n",
        "\n",
        "Entradas: \"12345678\", \"J3sus0\", \"#Te5t300\", \"J*90j12374\", \"Michheeul\", \"Monk3y6\"\n",
        "\n",
        "A saída deve ser a senha e um texto indicando se a senha é válida ou inválida:\n",
        "\n",
        "```\n",
        "\"1234\" - Senha inválida\n",
        "\"Qw#1234\" - Senha válida\n",
        "```"
      ]
    },
    {
      "cell_type": "code",
      "metadata": {
        "id": "UGgtGYGGf6J3"
      },
      "source": [
        "# Seu código"
      ],
      "execution_count": null,
      "outputs": []
    },
    {
      "cell_type": "code",
      "metadata": {
        "id": "n8F01NzD9uHm"
      },
      "source": [
        "# Password validation in Python \n",
        "# using naive method \n",
        "  \n",
        "# Function to validate the password \n",
        "def password_check(passwd): \n",
        "      \n",
        "    SpecialSym =['$', '@', '#'] \n",
        "    val = True\n",
        "      \n",
        "    if len(passwd) < 6: \n",
        "        print('length should be at least 6') \n",
        "        val = False\n",
        "          \n",
        "    if len(passwd) > 16: \n",
        "        print('length should be not be greater than 16') \n",
        "        val = False\n",
        "          \n",
        "    if not any(char.isdigit() for char in passwd): \n",
        "        print('Password should have at least one numeral') \n",
        "        val = False\n",
        "          \n",
        "    if not any(char.isupper() for char in passwd): \n",
        "        print('Password should have at least one uppercase letter') \n",
        "        val = False\n",
        "          \n",
        "    if not any(char.islower() for char in passwd): \n",
        "        print('Password should have at least one lowercase letter') \n",
        "        val = False\n",
        "          \n",
        "    if not any(char in SpecialSym for char in passwd): \n",
        "        print('Password should have at least one of the symbols $@#') \n",
        "        val = False\n",
        "    if val: \n",
        "        return val \n",
        "\n",
        "# Main method \n",
        "def main(passwd): \n",
        "    if (password_check(passwd)): \n",
        "        print(\"Password is valid\") \n",
        "    else: \n",
        "        print(\"Invalid Password !!\") "
      ],
      "execution_count": 17,
      "outputs": []
    },
    {
      "cell_type": "code",
      "metadata": {
        "colab": {
          "base_uri": "https://localhost:8080/"
        },
        "id": "7ECy5V2lW_f6",
        "outputId": "f7e2e06f-b74d-450e-929c-efccb9dab78f"
      },
      "source": [
        "main('123456789')"
      ],
      "execution_count": 18,
      "outputs": [
        {
          "output_type": "stream",
          "text": [
            "Password should have at least one uppercase letter\n",
            "Password should have at least one lowercase letter\n",
            "Password should have at least one of the symbols $@#\n",
            "Invalid Password !!\n"
          ],
          "name": "stdout"
        }
      ]
    },
    {
      "cell_type": "code",
      "metadata": {
        "colab": {
          "base_uri": "https://localhost:8080/"
        },
        "id": "AIqFJtWIWG3o",
        "outputId": "cd6b97f3-67ef-4616-bfd0-c9374684abb5"
      },
      "source": [
        "main('J3sus0')"
      ],
      "execution_count": 19,
      "outputs": [
        {
          "output_type": "stream",
          "text": [
            "Password should have at least one of the symbols $@#\n",
            "Invalid Password !!\n"
          ],
          "name": "stdout"
        }
      ]
    },
    {
      "cell_type": "code",
      "metadata": {
        "colab": {
          "base_uri": "https://localhost:8080/"
        },
        "id": "vjKYYLTDWMm3",
        "outputId": "0e8c3100-39c3-4371-838f-7f397f520e73"
      },
      "source": [
        "main('#Te5t300')"
      ],
      "execution_count": 20,
      "outputs": [
        {
          "output_type": "stream",
          "text": [
            "Password is valid\n"
          ],
          "name": "stdout"
        }
      ]
    },
    {
      "cell_type": "code",
      "metadata": {
        "colab": {
          "base_uri": "https://localhost:8080/"
        },
        "id": "z9fXq1hqWYF3",
        "outputId": "085703d4-3ef0-418b-9b50-4273c8399e7f"
      },
      "source": [
        "main('J*90j12374')"
      ],
      "execution_count": 21,
      "outputs": [
        {
          "output_type": "stream",
          "text": [
            "Password should have at least one of the symbols $@#\n",
            "Invalid Password !!\n"
          ],
          "name": "stdout"
        }
      ]
    },
    {
      "cell_type": "code",
      "metadata": {
        "colab": {
          "base_uri": "https://localhost:8080/"
        },
        "id": "uB3GKg6XWf_N",
        "outputId": "52c8ac05-7af2-4f23-e9ba-25b21220008a"
      },
      "source": [
        "main('Michheeul')"
      ],
      "execution_count": 22,
      "outputs": [
        {
          "output_type": "stream",
          "text": [
            "Password should have at least one numeral\n",
            "Password should have at least one of the symbols $@#\n",
            "Invalid Password !!\n"
          ],
          "name": "stdout"
        }
      ]
    },
    {
      "cell_type": "code",
      "metadata": {
        "colab": {
          "base_uri": "https://localhost:8080/"
        },
        "id": "FhNik_InWk9K",
        "outputId": "0b43071f-4107-4d7a-cdce-bb4a5cae69a7"
      },
      "source": [
        "main('Monk3y6')"
      ],
      "execution_count": 23,
      "outputs": [
        {
          "output_type": "stream",
          "text": [
            "Password should have at least one of the symbols $@#\n",
            "Invalid Password !!\n"
          ],
          "name": "stdout"
        }
      ]
    }
  ]
}